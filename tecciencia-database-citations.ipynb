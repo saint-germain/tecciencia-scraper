{
 "cells": [
  {
   "cell_type": "code",
   "execution_count": 1,
   "metadata": {},
   "outputs": [],
   "source": [
    "from bs4 import BeautifulSoup\n",
    "import requests\n",
    "import re"
   ]
  },
  {
   "cell_type": "code",
   "execution_count": 35,
   "metadata": {
    "collapsed": true
   },
   "outputs": [],
   "source": [
    "import numpy as np\n",
    "import pandas as pd"
   ]
  },
  {
   "cell_type": "code",
   "execution_count": 3,
   "metadata": {
    "collapsed": true
   },
   "outputs": [],
   "source": [
    "url = 'http://tecciencia.ecci.edu.co/index.php/TECCIENCIA/issue/view/6'"
   ]
  },
  {
   "cell_type": "code",
   "execution_count": 17,
   "metadata": {
    "collapsed": true
   },
   "outputs": [],
   "source": [
    "url = 'http://tecciencia.ecci.edu.co/index.php/TECCIENCIA'"
   ]
  },
  {
   "cell_type": "code",
   "execution_count": 18,
   "metadata": {},
   "outputs": [],
   "source": [
    "# Use requests to get the contents\n",
    "r = requests.get(url)\n",
    "\n",
    "# Get the text of the contents\n",
    "html_content = r.text\n",
    "\n",
    "# Convert the html content into a beautiful soup object\n",
    "#soup = BeautifulSoup(html_content, \"html.parser\")"
   ]
  },
  {
   "cell_type": "code",
   "execution_count": 19,
   "metadata": {
    "collapsed": true
   },
   "outputs": [],
   "source": [
    "html = html_content\n",
    "mystr='\\\"/index.php/TECCIENCIA/issue/view'\n",
    "occur=[m.start() for m in re.finditer(mystr, str(html))]\n",
    "issues=[int(str(html)[i+len(mystr)+1:i+len(mystr)+3].replace('\\\"', '')) for i in occur] # list of issues from sidebar"
   ]
  },
  {
   "cell_type": "code",
   "execution_count": 20,
   "metadata": {},
   "outputs": [
    {
     "data": {
      "text/plain": [
       "[27, 26, 25, 24, 23, 22, 20, 19, 18, 16, 17, 15, 12, 6, 7, 8, 10, 9]"
      ]
     },
     "execution_count": 20,
     "metadata": {},
     "output_type": "execute_result"
    }
   ],
   "source": [
    "issues"
   ]
  },
  {
   "cell_type": "code",
   "execution_count": 41,
   "metadata": {},
   "outputs": [
    {
     "name": "stdout",
     "output_type": "stream",
     "text": [
      "http://tecciencia.ecci.edu.co/index.php/TECCIENCIA/issue/view/27\n",
      "http://tecciencia.ecci.edu.co/index.php/TECCIENCIA/issue/view/26\n",
      "http://tecciencia.ecci.edu.co/index.php/TECCIENCIA/issue/view/25\n",
      "http://tecciencia.ecci.edu.co/index.php/TECCIENCIA/issue/view/24\n",
      "http://tecciencia.ecci.edu.co/index.php/TECCIENCIA/issue/view/23\n",
      "http://tecciencia.ecci.edu.co/index.php/TECCIENCIA/issue/view/22\n",
      "http://tecciencia.ecci.edu.co/index.php/TECCIENCIA/issue/view/20\n",
      "http://tecciencia.ecci.edu.co/index.php/TECCIENCIA/issue/view/19\n",
      "http://tecciencia.ecci.edu.co/index.php/TECCIENCIA/issue/view/18\n",
      "http://tecciencia.ecci.edu.co/index.php/TECCIENCIA/issue/view/16\n",
      "http://tecciencia.ecci.edu.co/index.php/TECCIENCIA/issue/view/17\n",
      "http://tecciencia.ecci.edu.co/index.php/TECCIENCIA/issue/view/15\n",
      "http://tecciencia.ecci.edu.co/index.php/TECCIENCIA/issue/view/12\n",
      "http://tecciencia.ecci.edu.co/index.php/TECCIENCIA/issue/view/6\n",
      "http://tecciencia.ecci.edu.co/index.php/TECCIENCIA/issue/view/7\n",
      "http://tecciencia.ecci.edu.co/index.php/TECCIENCIA/issue/view/8\n",
      "http://tecciencia.ecci.edu.co/index.php/TECCIENCIA/issue/view/10\n",
      "http://tecciencia.ecci.edu.co/index.php/TECCIENCIA/issue/view/9\n"
     ]
    }
   ],
   "source": [
    "issnm,links,names,issix,artix=[],[],[],[],[]\n",
    "for k in issues:\n",
    "    nurl=url+'/issue/view/'+str(k) \n",
    "    print(nurl)\n",
    "    # Use requests to get the contents\n",
    "    r = requests.get(nurl)\n",
    "\n",
    "    # Get the text of the contents\n",
    "    html_content = r.text\n",
    "\n",
    "    # Convert the html content into a beautiful soup object\n",
    "    soup = BeautifulSoup(html_content, \"html.parser\")\n",
    "    tags=soup.find_all('td')\n",
    "    titletags=np.array(tags)[['tocTitle' in str(i) for i in tags]]\n",
    "    maslis=[i.find_all('a',href=True)[0] for i in titletags]\n",
    "    links+=[a['href'] for a in maslis]\n",
    "    names+=[a.string for a in maslis]\n",
    "    \n",
    "    nart=len(maslis)\n",
    "    \n",
    "    issix+=nart*[str(k)]\n",
    "    issnm+=nart*[soup.title.text]\n",
    "    "
   ]
  },
  {
   "cell_type": "code",
   "execution_count": null,
   "metadata": {
    "collapsed": true
   },
   "outputs": [],
   "source": [
    "artix+=list(range(1,nart+1)) #do later\n",
    "\n"
   ]
  },
  {
   "cell_type": "code",
   "execution_count": 42,
   "metadata": {
    "collapsed": true
   },
   "outputs": [],
   "source": [
    "df = pd.DataFrame(list(zip(issnm,links,names,issix,artix)), \n",
    "               columns =['Issue Name', 'URL','Name','Issue Index','Article Index']) "
   ]
  },
  {
   "cell_type": "code",
   "execution_count": 53,
   "metadata": {},
   "outputs": [],
   "source": [
    "df['Year']=[int(i[-5:-1]) for i in df['Issue Name']]"
   ]
  },
  {
   "cell_type": "code",
   "execution_count": 54,
   "metadata": {
    "scrolled": false
   },
   "outputs": [],
   "source": [
    "df['Issue Number']=[int(i[-9:-7]) for i in df['Issue Name']]"
   ]
  },
  {
   "cell_type": "code",
   "execution_count": 59,
   "metadata": {},
   "outputs": [],
   "source": [
    "df['Semester']=df['Issue Number']%2+1"
   ]
  },
  {
   "cell_type": "code",
   "execution_count": 63,
   "metadata": {},
   "outputs": [],
   "source": [
    "df['Volume']=df['Issue Number']//2+1"
   ]
  },
  {
   "cell_type": "code",
   "execution_count": 78,
   "metadata": {},
   "outputs": [],
   "source": [
    "kws,notpaper=[],[]"
   ]
  },
  {
   "cell_type": "code",
   "execution_count": 79,
   "metadata": {},
   "outputs": [
    {
     "name": "stdout",
     "output_type": "stream",
     "text": [
      "Tool for Monitoring Hillslope Stability Considering Precipitation Data 0\n",
      "Keywordsgeo,climate\n",
      "Operations Research: from Strategy to Meaningful Learning 1\n",
      "Keywordseducation, industrial\n",
      "Methodological Proposal to Correct and Adjust a Geodesic Leveling Data 2\n",
      "Keywordsgeo\n",
      "Videographic Study and Objective Classification of Gait in Patients with Neurological Diseases. 3\n",
      "Keywordsbiomedical\n",
      "Green inorganic pigment production with spinel structureCoCr2O4by solution combustion synthesis 4\n",
      "Keywordschemical\n",
      "Multi-Agent System Used for Recommendation of Historical and Cultural Memories 5\n",
      "Keywordssoftware\n",
      "Use of Biofuels in the Aeronautical Industry.  Case of the Colombian Air Force. 6\n",
      "Keywordsbiofuels\n",
      "Physical Characterization of Breast Implants Submitted to High Energy X-Rays 7\n",
      "Keywordsmedphys\n",
      "Cyanide Degradation from Mining Effluent Using Two Reagents: Sodium Metabisulphite and the Metabisulphite Mixture with Hydrogen Peroxide 8\n",
      "Keywordsenvironment, bioremediation\n",
      "Development of a perforated panel for acoustic conditioning based on Colombian guadua fiber (Guadua angustifolia Kunth) 9\n",
      "Keywordsbiomaterials\n",
      "Biodegradation of Chlorothalonil Fungicide in Coastal Areas of the Colombian Caribbean Suitable for Banana Crops 10\n",
      "Keywordsenvironment, bioremediation\n",
      "Comparison of ATCOR Atmospheric and ELM Linear Empirical Correction Models Applied to WorldView-2 Images 11\n",
      "Keywordsgeo, environment\n",
      "Programming of Job Shop Production Systems with Fuzzy Logic 12\n",
      "Keywordsindustrial\n",
      "Pulse width Prediction Control Technique Applied to a Half-Bridge Boost 13\n",
      "Keywordselectrical\n",
      "Hydrogen Production and Purification by Bioethanol Steam Reforming and Preferential Oxidation of CO 14\n",
      "Keywordsenvironment,biofuels\n",
      "Comparative Analysis of the Weibull Model and Observed Wind Data in the City of Floridablanca, Colombia. 15\n"
     ]
    },
    {
     "ename": "KeyboardInterrupt",
     "evalue": "",
     "output_type": "error",
     "traceback": [
      "\u001b[0;31m---------------------------------------------------------------------------\u001b[0m",
      "\u001b[0;31mKeyboardInterrupt\u001b[0m                         Traceback (most recent call last)",
      "\u001b[0;32m/Users/germanchaparro/miniconda2/envs/py36/lib/python3.5/site-packages/ipykernel/kernelbase.py\u001b[0m in \u001b[0;36m_input_request\u001b[0;34m(self, prompt, ident, parent, password)\u001b[0m\n\u001b[1;32m    729\u001b[0m             \u001b[0;32mtry\u001b[0m\u001b[0;34m:\u001b[0m\u001b[0;34m\u001b[0m\u001b[0m\n\u001b[0;32m--> 730\u001b[0;31m                 \u001b[0mident\u001b[0m\u001b[0;34m,\u001b[0m \u001b[0mreply\u001b[0m \u001b[0;34m=\u001b[0m \u001b[0mself\u001b[0m\u001b[0;34m.\u001b[0m\u001b[0msession\u001b[0m\u001b[0;34m.\u001b[0m\u001b[0mrecv\u001b[0m\u001b[0;34m(\u001b[0m\u001b[0mself\u001b[0m\u001b[0;34m.\u001b[0m\u001b[0mstdin_socket\u001b[0m\u001b[0;34m,\u001b[0m \u001b[0;36m0\u001b[0m\u001b[0;34m)\u001b[0m\u001b[0;34m\u001b[0m\u001b[0m\n\u001b[0m\u001b[1;32m    731\u001b[0m             \u001b[0;32mexcept\u001b[0m \u001b[0mException\u001b[0m\u001b[0;34m:\u001b[0m\u001b[0;34m\u001b[0m\u001b[0m\n",
      "\u001b[0;32m/Users/germanchaparro/miniconda2/envs/py36/lib/python3.5/site-packages/jupyter_client/session.py\u001b[0m in \u001b[0;36mrecv\u001b[0;34m(self, socket, mode, content, copy)\u001b[0m\n\u001b[1;32m    777\u001b[0m         \u001b[0;32mtry\u001b[0m\u001b[0;34m:\u001b[0m\u001b[0;34m\u001b[0m\u001b[0m\n\u001b[0;32m--> 778\u001b[0;31m             \u001b[0mmsg_list\u001b[0m \u001b[0;34m=\u001b[0m \u001b[0msocket\u001b[0m\u001b[0;34m.\u001b[0m\u001b[0mrecv_multipart\u001b[0m\u001b[0;34m(\u001b[0m\u001b[0mmode\u001b[0m\u001b[0;34m,\u001b[0m \u001b[0mcopy\u001b[0m\u001b[0;34m=\u001b[0m\u001b[0mcopy\u001b[0m\u001b[0;34m)\u001b[0m\u001b[0;34m\u001b[0m\u001b[0m\n\u001b[0m\u001b[1;32m    779\u001b[0m         \u001b[0;32mexcept\u001b[0m \u001b[0mzmq\u001b[0m\u001b[0;34m.\u001b[0m\u001b[0mZMQError\u001b[0m \u001b[0;32mas\u001b[0m \u001b[0me\u001b[0m\u001b[0;34m:\u001b[0m\u001b[0;34m\u001b[0m\u001b[0m\n",
      "\u001b[0;32m/Users/germanchaparro/miniconda2/envs/py36/lib/python3.5/site-packages/zmq/sugar/socket.py\u001b[0m in \u001b[0;36mrecv_multipart\u001b[0;34m(self, flags, copy, track)\u001b[0m\n\u001b[1;32m    394\u001b[0m         \"\"\"\n\u001b[0;32m--> 395\u001b[0;31m         \u001b[0mparts\u001b[0m \u001b[0;34m=\u001b[0m \u001b[0;34m[\u001b[0m\u001b[0mself\u001b[0m\u001b[0;34m.\u001b[0m\u001b[0mrecv\u001b[0m\u001b[0;34m(\u001b[0m\u001b[0mflags\u001b[0m\u001b[0;34m,\u001b[0m \u001b[0mcopy\u001b[0m\u001b[0;34m=\u001b[0m\u001b[0mcopy\u001b[0m\u001b[0;34m,\u001b[0m \u001b[0mtrack\u001b[0m\u001b[0;34m=\u001b[0m\u001b[0mtrack\u001b[0m\u001b[0;34m)\u001b[0m\u001b[0;34m]\u001b[0m\u001b[0;34m\u001b[0m\u001b[0m\n\u001b[0m\u001b[1;32m    396\u001b[0m         \u001b[0;31m# have first part already, only loop while more to receive\u001b[0m\u001b[0;34m\u001b[0m\u001b[0;34m\u001b[0m\u001b[0m\n",
      "\u001b[0;32mzmq/backend/cython/socket.pyx\u001b[0m in \u001b[0;36mzmq.backend.cython.socket.Socket.recv (zmq/backend/cython/socket.c:7683)\u001b[0;34m()\u001b[0m\n",
      "\u001b[0;32mzmq/backend/cython/socket.pyx\u001b[0m in \u001b[0;36mzmq.backend.cython.socket.Socket.recv (zmq/backend/cython/socket.c:7460)\u001b[0;34m()\u001b[0m\n",
      "\u001b[0;32mzmq/backend/cython/socket.pyx\u001b[0m in \u001b[0;36mzmq.backend.cython.socket._recv_copy (zmq/backend/cython/socket.c:2344)\u001b[0;34m()\u001b[0m\n",
      "\u001b[0;32m/Users/germanchaparro/miniconda2/envs/py36/lib/python3.5/site-packages/zmq/backend/cython/checkrc.pxd\u001b[0m in \u001b[0;36mzmq.backend.cython.checkrc._check_rc (zmq/backend/cython/socket.c:9621)\u001b[0;34m()\u001b[0m\n",
      "\u001b[0;31mKeyboardInterrupt\u001b[0m: ",
      "\nDuring handling of the above exception, another exception occurred:\n",
      "\u001b[0;31mKeyboardInterrupt\u001b[0m                         Traceback (most recent call last)",
      "\u001b[0;32m<ipython-input-79-023d7cb58eaa>\u001b[0m in \u001b[0;36m<module>\u001b[0;34m()\u001b[0m\n\u001b[1;32m      1\u001b[0m \u001b[0;32mfor\u001b[0m \u001b[0mi\u001b[0m \u001b[0;32min\u001b[0m \u001b[0mrange\u001b[0m\u001b[0;34m(\u001b[0m\u001b[0mlen\u001b[0m\u001b[0;34m(\u001b[0m\u001b[0mdf\u001b[0m\u001b[0;34m)\u001b[0m\u001b[0;34m)\u001b[0m\u001b[0;34m:\u001b[0m\u001b[0;34m\u001b[0m\u001b[0m\n\u001b[1;32m      2\u001b[0m     \u001b[0mprint\u001b[0m\u001b[0;34m(\u001b[0m\u001b[0mdf\u001b[0m\u001b[0;34m.\u001b[0m\u001b[0mName\u001b[0m\u001b[0;34m.\u001b[0m\u001b[0miloc\u001b[0m\u001b[0;34m[\u001b[0m\u001b[0mi\u001b[0m\u001b[0;34m]\u001b[0m\u001b[0;34m,\u001b[0m\u001b[0mi\u001b[0m\u001b[0;34m)\u001b[0m\u001b[0;34m\u001b[0m\u001b[0m\n\u001b[0;32m----> 3\u001b[0;31m     \u001b[0mkws\u001b[0m\u001b[0;34m+=\u001b[0m\u001b[0;34m[\u001b[0m\u001b[0minput\u001b[0m\u001b[0;34m(\u001b[0m\u001b[0;34m\"Keywords\"\u001b[0m\u001b[0;34m)\u001b[0m\u001b[0;34m]\u001b[0m\u001b[0;34m\u001b[0m\u001b[0m\n\u001b[0m\u001b[1;32m      4\u001b[0m \u001b[0;31m#    notpaper+=[input(\"Not paper\")]\u001b[0m\u001b[0;34m\u001b[0m\u001b[0;34m\u001b[0m\u001b[0m\n",
      "\u001b[0;32m/Users/germanchaparro/miniconda2/envs/py36/lib/python3.5/site-packages/ipykernel/kernelbase.py\u001b[0m in \u001b[0;36mraw_input\u001b[0;34m(self, prompt)\u001b[0m\n\u001b[1;32m    703\u001b[0m             \u001b[0mself\u001b[0m\u001b[0;34m.\u001b[0m\u001b[0m_parent_ident\u001b[0m\u001b[0;34m,\u001b[0m\u001b[0;34m\u001b[0m\u001b[0m\n\u001b[1;32m    704\u001b[0m             \u001b[0mself\u001b[0m\u001b[0;34m.\u001b[0m\u001b[0m_parent_header\u001b[0m\u001b[0;34m,\u001b[0m\u001b[0;34m\u001b[0m\u001b[0m\n\u001b[0;32m--> 705\u001b[0;31m             \u001b[0mpassword\u001b[0m\u001b[0;34m=\u001b[0m\u001b[0;32mFalse\u001b[0m\u001b[0;34m,\u001b[0m\u001b[0;34m\u001b[0m\u001b[0m\n\u001b[0m\u001b[1;32m    706\u001b[0m         )\n\u001b[1;32m    707\u001b[0m \u001b[0;34m\u001b[0m\u001b[0m\n",
      "\u001b[0;32m/Users/germanchaparro/miniconda2/envs/py36/lib/python3.5/site-packages/ipykernel/kernelbase.py\u001b[0m in \u001b[0;36m_input_request\u001b[0;34m(self, prompt, ident, parent, password)\u001b[0m\n\u001b[1;32m    733\u001b[0m             \u001b[0;32mexcept\u001b[0m \u001b[0mKeyboardInterrupt\u001b[0m\u001b[0;34m:\u001b[0m\u001b[0;34m\u001b[0m\u001b[0m\n\u001b[1;32m    734\u001b[0m                 \u001b[0;31m# re-raise KeyboardInterrupt, to truncate traceback\u001b[0m\u001b[0;34m\u001b[0m\u001b[0;34m\u001b[0m\u001b[0m\n\u001b[0;32m--> 735\u001b[0;31m                 \u001b[0;32mraise\u001b[0m \u001b[0mKeyboardInterrupt\u001b[0m\u001b[0;34m\u001b[0m\u001b[0m\n\u001b[0m\u001b[1;32m    736\u001b[0m             \u001b[0;32melse\u001b[0m\u001b[0;34m:\u001b[0m\u001b[0;34m\u001b[0m\u001b[0m\n\u001b[1;32m    737\u001b[0m                 \u001b[0;32mbreak\u001b[0m\u001b[0;34m\u001b[0m\u001b[0m\n",
      "\u001b[0;31mKeyboardInterrupt\u001b[0m: "
     ]
    }
   ],
   "source": [
    "for i in range(len(df)):\n",
    "    print(df.Name.iloc[i],i)\n",
    "    kws+=[input(\"Keywords\")]\n",
    "#    notpaper+=[input(\"Not paper\")]"
   ]
  },
  {
   "cell_type": "code",
   "execution_count": 80,
   "metadata": {},
   "outputs": [
    {
     "data": {
      "text/plain": [
       "['geo,climate',\n",
       " 'education, industrial',\n",
       " 'geo',\n",
       " 'biomedical',\n",
       " 'chemical',\n",
       " 'software',\n",
       " 'biofuels',\n",
       " 'medphys',\n",
       " 'environment, bioremediation',\n",
       " 'biomaterials',\n",
       " 'environment, bioremediation',\n",
       " 'geo, environment',\n",
       " 'industrial',\n",
       " 'electrical',\n",
       " 'environment,biofuels']"
      ]
     },
     "execution_count": 80,
     "metadata": {},
     "output_type": "execute_result"
    }
   ],
   "source": [
    "kws"
   ]
  },
  {
   "cell_type": "code",
   "execution_count": 82,
   "metadata": {},
   "outputs": [],
   "source": [
    "df.to_csv(\"tecciencia-citations.csv\")"
   ]
  },
  {
   "cell_type": "code",
   "execution_count": null,
   "metadata": {
    "collapsed": true
   },
   "outputs": [],
   "source": [
    "# Use requests to get the contents\n",
    "r = requests.get(url)\n",
    "\n",
    "# Get the text of the contents\n",
    "html_content = r.text\n",
    "\n",
    "# Convert the html content into a beautiful soup object\n",
    "soup = BeautifulSoup(html_content, \"html.parser\")"
   ]
  },
  {
   "cell_type": "code",
   "execution_count": 14,
   "metadata": {},
   "outputs": [
    {
     "data": {
      "text/plain": [
       "'Vol 7, No 14 (2013)'"
      ]
     },
     "execution_count": 14,
     "metadata": {},
     "output_type": "execute_result"
    }
   ],
   "source": [
    "soup.title.text # title of current url"
   ]
  },
  {
   "cell_type": "code",
   "execution_count": 7,
   "metadata": {
    "collapsed": true
   },
   "outputs": [],
   "source": [
    "tags=soup.find_all('td')"
   ]
  },
  {
   "cell_type": "code",
   "execution_count": 8,
   "metadata": {},
   "outputs": [],
   "source": [
    "titletags=np.array(tags)[['tocTitle' in str(i) for i in tags]]"
   ]
  },
  {
   "cell_type": "code",
   "execution_count": 10,
   "metadata": {},
   "outputs": [],
   "source": [
    "maslis=[i.find_all('a',href=True)[0] for i in titletags]"
   ]
  },
  {
   "cell_type": "code",
   "execution_count": 16,
   "metadata": {},
   "outputs": [
    {
     "data": {
      "text/plain": [
       "[['http://tecciencia.ecci.edu.co/index.php/TECCIENCIA/article/view/182',\n",
       "  'Editorial pages No 14'],\n",
       " ['http://tecciencia.ecci.edu.co/index.php/TECCIENCIA/article/view/20',\n",
       "  'ECG signal analysis using temporary dynamic sequence alignment'],\n",
       " ['http://tecciencia.ecci.edu.co/index.php/TECCIENCIA/article/view/25',\n",
       "  'Design and construction of a solar collector parabolic dish for rural zones in Colombia'],\n",
       " ['http://tecciencia.ecci.edu.co/index.php/TECCIENCIA/article/view/26',\n",
       "  'Braking mechanism for the rcar protocol in vehicle crash-test trials'],\n",
       " ['http://tecciencia.ecci.edu.co/index.php/TECCIENCIA/article/view/27',\n",
       "  'Geographic web services and tools as instruments for territorial management'],\n",
       " ['http://tecciencia.ecci.edu.co/index.php/TECCIENCIA/article/view/28',\n",
       "  'Iptv: next-generation network technologies and protocols'],\n",
       " ['http://tecciencia.ecci.edu.co/index.php/TECCIENCIA/article/view/29',\n",
       "  'Simulation of the ofdm technique for the transmission of digital radio'],\n",
       " ['http://tecciencia.ecci.edu.co/index.php/TECCIENCIA/article/view/30',\n",
       "  'Comparison of the behavior of biofuel based on castor and sunflower oils'],\n",
       " ['http://tecciencia.ecci.edu.co/index.php/TECCIENCIA/article/view/33',\n",
       "  'Touch interface analysis for virtual reality'],\n",
       " ['http://tecciencia.ecci.edu.co/index.php/TECCIENCIA/article/view/37',\n",
       "  'Performance assessment of diffserv and intserv services in qos on an academic network using ns2'],\n",
       " ['http://tecciencia.ecci.edu.co/index.php/TECCIENCIA/article/view/34',\n",
       "  'Ultrasound applications to medicine part i: physical principles.']]"
      ]
     },
     "execution_count": 16,
     "metadata": {},
     "output_type": "execute_result"
    }
   ],
   "source": [
    "links=[a['href'] for a in maslis]\n",
    "names=[a.string for a in maslis]\n",
    "issix=len(names)*[]"
   ]
  },
  {
   "cell_type": "code",
   "execution_count": 12,
   "metadata": {},
   "outputs": [
    {
     "data": {
      "text/plain": [
       "['Vol 14 No 26 in progress\\xa0',\n",
       " 'Vol 13 No 25\\xa0',\n",
       " 'Vol 13 No 24\\xa0',\n",
       " 'Vol 12 No 23\\xa0',\n",
       " 'Vol 12 No 22\\xa0',\n",
       " 'Vol 11 No 21\\xa0',\n",
       " 'Vol. 11 No 20\\xa0',\n",
       " 'Vol. 10 No 19',\n",
       " 'Vol. 10 No 18',\n",
       " 'Vol. 9 No 17',\n",
       " 'Vol. 9. ',\n",
       " 'Vol. 9 No 16',\n",
       " 'Vol. 8 No 15',\n",
       " 'Vol. 7 No 14',\n",
       " 'Vol. 7 No 13',\n",
       " 'Vol. 6 No 12',\n",
       " 'Vol. 6 No 11',\n",
       " 'Vol. 5 No 10',\n",
       " 'Vol 7, No 14 (2013)',\n",
       " 'Vol 7, No 14 (2013)']"
      ]
     },
     "execution_count": 12,
     "metadata": {},
     "output_type": "execute_result"
    }
   ],
   "source": [
    "soup.body.find_all(text=re.compile('Vol'))"
   ]
  },
  {
   "cell_type": "code",
   "execution_count": 117,
   "metadata": {},
   "outputs": [],
   "source": []
  },
  {
   "cell_type": "code",
   "execution_count": 147,
   "metadata": {},
   "outputs": [],
   "source": []
  },
  {
   "cell_type": "code",
   "execution_count": 155,
   "metadata": {},
   "outputs": [],
   "source": []
  },
  {
   "cell_type": "code",
   "execution_count": null,
   "metadata": {
    "collapsed": true
   },
   "outputs": [],
   "source": []
  }
 ],
 "metadata": {
  "kernelspec": {
   "display_name": "Python 3",
   "language": "python",
   "name": "python3"
  },
  "language_info": {
   "codemirror_mode": {
    "name": "ipython",
    "version": 3
   },
   "file_extension": ".py",
   "mimetype": "text/x-python",
   "name": "python",
   "nbconvert_exporter": "python",
   "pygments_lexer": "ipython3",
   "version": "3.5.6"
  }
 },
 "nbformat": 4,
 "nbformat_minor": 2
}
